{
 "cells": [
  {
   "cell_type": "code",
   "execution_count": null,
   "id": "0d81cfb1",
   "metadata": {},
   "outputs": [],
   "source": [
    "from src.papers.domain.multimodal_paper_query import ComparisonOperator, FilterCondition, SourceFilters, CitationFilters, QueryParameters, MultiModalPaperQuery, CitationParameters\n",
    "from src.papers.io.db import Milvus, Neo4j, SQLite\n",
    "import os"
   ]
  },
  {
   "cell_type": "code",
   "execution_count": null,
   "id": "2d258945",
   "metadata": {},
   "outputs": [],
   "source": [
    "MILVUS_COLLECTION = os.getenv(\"MILVUS_COLLECTION\")\n",
    "MILVUS_ALIAS = os.getenv(\"MILVUS_ALIAS\")\n",
    "MILVUS_HOST = os.getenv(\"MILVUS_HOST\")\n",
    "MILVUS_PORT = os.getenv(\"MILVUS_PORT\")\n",
    "NEO4J_URI = os.getenv(\"NEO4J_URI\")\n",
    "NEO4J_USERNAME = os.getenv(\"NEO4J_USERNAME\")\n",
    "NEO4J_PASSWORD = os.getenv(\"NEO4J_PASSWORD\")\n",
    "NEO4J_DATABASE = os.getenv(\"NEO4J_DATABASE\")"
   ]
  },
  {
   "cell_type": "code",
   "execution_count": null,
   "id": "1bb7d5c5",
   "metadata": {},
   "outputs": [],
   "source": [
    "milvus_client = Milvus(\n",
    "        collection=MILVUS_COLLECTION, \n",
    "        alias=MILVUS_ALIAS,\n",
    "        host=MILVUS_HOST,\n",
    "        port=MILVUS_PORT,\n",
    "    )   "
   ]
  },
  {
   "cell_type": "code",
   "execution_count": null,
   "id": "53ea600b",
   "metadata": {},
   "outputs": [],
   "source": [
    "neo4j_client = Neo4j(\n",
    "    uri=NEO4J_URI,\n",
    "    username=NEO4J_USERNAME,\n",
    "    password=NEO4J_PASSWORD,\n",
    "    database=NEO4J_DATABASE\n",
    ")"
   ]
  },
  {
   "cell_type": "code",
   "execution_count": null,
   "id": "4b31eb5b",
   "metadata": {},
   "outputs": [],
   "source": [
    "sqlite_client = SQLite(\"\")"
   ]
  },
  {
   "cell_type": "code",
   "execution_count": null,
   "id": "7d17c07e",
   "metadata": {},
   "outputs": [],
   "source": [
    "query_client = MultiModalPaperQuery(relational_db_client=sqlite_client, vector_db_client=milvus_client, graph_db_client=neo4j_client)\n",
    "query_client.query_vector_db(\n",
    "    \"spot_instances\"\n",
    ")\n"
   ]
  },
  {
   "cell_type": "code",
   "execution_count": null,
   "id": "1d8fc21e",
   "metadata": {},
   "outputs": [],
   "source": [
    "param = CitationParameters(title=\"Admission Control for Elastic Cloud Services.\", year=\"2012\")\n",
    "len(query_client.get_citations(parameters=param))"
   ]
  },
  {
   "cell_type": "code",
   "execution_count": null,
   "id": "c5f1f049",
   "metadata": {},
   "outputs": [],
   "source": [
    "param.model_dump(mode=\"json\")"
   ]
  },
  {
   "cell_type": "code",
   "execution_count": null,
   "id": "5848248e",
   "metadata": {},
   "outputs": [],
   "source": [
    "filter_condition = FilterCondition(field = \"sda\", operator=\"eq\", values=[\"adsaas\"])\n",
    "citation_filters = CitationFilters(topic=\"sdasdasdasd\", filters=[filter_condition])\n",
    "QueryParameters(citation_filters=citation_filters)"
   ]
  },
  {
   "cell_type": "code",
   "execution_count": null,
   "id": "31e81886",
   "metadata": {},
   "outputs": [],
   "source": [
    "filters = [\n",
    "    FilterCondition(field=\"Year\", operator=\"eq\", values=[\"2012\", \"2013\", \"2014\"])\n",
    "]\n",
    "\n",
    "source_filters = SourceFilters(text=\"Spot instances\", filters=filters)\n",
    "query_parameters = QueryParameters(source_filters=source_filters)"
   ]
  },
  {
   "cell_type": "code",
   "execution_count": null,
   "id": "8aac89b6",
   "metadata": {},
   "outputs": [],
   "source": [
    "df = query_client.query(query_parameters)"
   ]
  },
  {
   "cell_type": "code",
   "execution_count": null,
   "id": "b2902a01",
   "metadata": {},
   "outputs": [],
   "source": [
    "import polars as pl\n",
    "df.head(10)"
   ]
  },
  {
   "cell_type": "code",
   "execution_count": null,
   "id": "425e3913",
   "metadata": {},
   "outputs": [],
   "source": [
    "from src.papers.io.db import SQLite\n",
    "\n",
    "sql_client = SQLite('../data/RelationalDB/ccgrid.db') \n",
    "sql_client.connect()"
   ]
  },
  {
   "cell_type": "code",
   "execution_count": null,
   "id": "4c0dffea",
   "metadata": {},
   "outputs": [],
   "source": [
    "results = sql_client.query(\"\"\"\n",
    "                SELECT c_inst.year, comm.name, inst.name, inst.country\n",
    "                FROM Committee_Institution AS c_inst \n",
    "                INNER JOIN Committee as comm\n",
    "                ON comm.id_committee = c_inst.id_committee\n",
    "                INNER JOIN Institutions as inst\n",
    "                ON inst.id_institution = c_inst.id_institution\n",
    "                \"\"\")\n",
    "\n",
    "for result in results:\n",
    "    print(result)\n",
    "    \n",
    "commitees_per_conference = []\n",
    "for committee in results:\n",
    "    commitees_per_conference.append({\n",
    "        \"Conference\": \"ccgrid\",\n",
    "        \"Year\": committee[0],\n",
    "        \"Committee\": {\n",
    "            \"committee_name\": committee[1],\n",
    "            \"committee_institution\": committee[2],\n",
    "            \"committee_country\": committee[3] \n",
    "        }\n",
    "    })\n",
    "    \n",
    "print(commitees_per_conference)"
   ]
  },
  {
   "cell_type": "code",
   "execution_count": null,
   "id": "ac01b4c9",
   "metadata": {},
   "outputs": [],
   "source": [
    "import polars as pl\n",
    "df = pl.DataFrame(commitees_per_conference)\\\n",
    "    .group_by(\"Year\", \"Conference\")\\\n",
    "    .agg([pl.col(\"Committee\")])"
   ]
  },
  {
   "cell_type": "code",
   "execution_count": null,
   "id": "f3bdd7ef",
   "metadata": {},
   "outputs": [],
   "source": [
    "df.explode(\"Committee\").unnest(\"Committee\").sql(\"\"\"SELECT Year, committee_country, COUNT(*) as committee_count\n",
    "FROM self\n",
    "GROUP BY Year, committee_country\n",
    "QUALIFY ROW_NUMBER() OVER (PARTITION BY Year ORDER BY COUNT(*) DESC) = 1\n",
    "ORDER BY Year, committee_country;\"\"\")aws"
   ]
  },
  {
   "cell_type": "code",
   "execution_count": null,
   "id": "64a133a7",
   "metadata": {},
   "outputs": [],
   "source": [
    "df.explode(\"Committee\").unnest(\"Committee\")"
   ]
  },
  {
   "cell_type": "code",
   "execution_count": null,
   "id": "93ee5b49",
   "metadata": {},
   "outputs": [],
   "source": [
    "print(df.schema)"
   ]
  },
  {
   "cell_type": "code",
   "execution_count": null,
   "id": "ca917f6d",
   "metadata": {},
   "outputs": [],
   "source": [
    "df.explode(\"Committee\").unnest(\"Committee\")"
   ]
  },
  {
   "cell_type": "code",
   "execution_count": null,
   "id": "5f2f3bda",
   "metadata": {},
   "outputs": [],
   "source": [
    "import src.papers.domain.multimodal_paper_query as mpq\n",
    "from src.papers.domain.multimodal_paper_query import ComparisonOperator, FilterCondition, SourceFilters, CitationFilters, QueryParameters, MultiModalPaperQuery, CitationParameters\n",
    "from src.papers.io.db import Milvus, Neo4j, SQLite\n",
    "import os\n",
    "import polars as pl\n",
    "\n",
    "MILVUS_COLLECTION = os.getenv(\"MILVUS_COLLECTION\")\n",
    "MILVUS_ALIAS = os.getenv(\"MILVUS_ALIAS\")\n",
    "MILVUS_HOST = os.getenv(\"MILVUS_HOST\")\n",
    "MILVUS_PORT = os.getenv(\"MILVUS_PORT\")\n",
    "NEO4J_URI = os.getenv(\"NEO4J_URI\")\n",
    "NEO4J_USERNAME = os.getenv(\"NEO4J_USERNAME\")\n",
    "NEO4J_PASSWORD = os.getenv(\"NEO4J_PASSWORD\")\n",
    "NEO4J_DATABASE = os.getenv(\"NEO4J_DATABASE\")\n",
    "\n",
    "milvus_client = Milvus(\n",
    "        collection=MILVUS_COLLECTION, \n",
    "        alias=MILVUS_ALIAS,\n",
    "        host=MILVUS_HOST,\n",
    "        port=MILVUS_PORT,\n",
    "    )   \n",
    "neo4j_client = Neo4j(\n",
    "    uri=NEO4J_URI,\n",
    "    username=NEO4J_USERNAME,\n",
    "    password=NEO4J_PASSWORD,\n",
    "    database=NEO4J_DATABASE\n",
    ")\n",
    "\n",
    "query_client = mpq.MultiModalPaperQuery(relational_db_client=SQLite, vector_db_client=milvus_client, graph_db_client=neo4j_client)\n",
    "\n"
   ]
  },
  {
   "cell_type": "code",
   "execution_count": null,
   "id": "b1894cde",
   "metadata": {},
   "outputs": [],
   "source": [
    "query = mpq.QueryParameters(\n",
    "    source_filters=mpq.SourceFilters(\n",
    "        text=\"Spark\"\n",
    "    ),\n",
    "    citation_filters=mpq.CitationFilters(\n",
    "        text=\"Spark\"\n",
    "    )\n",
    ")"
   ]
  },
  {
   "cell_type": "code",
   "execution_count": null,
   "id": "2efc7016",
   "metadata": {},
   "outputs": [],
   "source": [
    "# If source is provided, start by recovering source paper data.\n",
    "df_source = query_client.query_source(query.source_filters) if query.source_filters else []\n",
    "\n",
    "# If citations are provided, make query with its filters\n",
    "df_target = query_client.query_citation(query.citation_filters) if query.citation_filters else []   "
   ]
  },
  {
   "cell_type": "code",
   "execution_count": null,
   "id": "b322dc59",
   "metadata": {},
   "outputs": [],
   "source": [
    "df_source.select([\"source_title\", \"cited_title\"]).to_dicts()"
   ]
  },
  {
   "cell_type": "code",
   "execution_count": null,
   "id": "75327d53",
   "metadata": {},
   "outputs": [],
   "source": [
    "(\n",
    "    df_source\n",
    "    .select([\n",
    "        'source_title',\n",
    "        'source_year',\n",
    "        'source_country',\n",
    "        'source_authors',\n",
    "        'source_conference',\n",
    "        'cited_title',\n",
    "        'cited_year',\n",
    "        'cited_predominant_country',\n",
    "        'cited_conference',\n",
    "        'cited_authors',\n",
    "        'cited_country',\n",
    "        'cited_institution'\n",
    "    ])\n",
    "    .join(\n",
    "        (\n",
    "            df_target\n",
    "            .with_columns(\n",
    "                pl.col(\"source_title\").cast(pl.String),\n",
    "                pl.col(\"source_year\").cast(pl.String),\n",
    "                pl.col(\"cited_title\").cast(pl.String),\n",
    "                pl.col(\"cited_year\").cast(pl.String),\n",
    "            )\n",
    "            .select([\n",
    "                'source_title',\n",
    "                'source_year',\n",
    "                'source_predominant_country',\n",
    "                'source_authors',\n",
    "                'source_conference',\n",
    "                'source_institution',\n",
    "                'source_country',\n",
    "                'cited_title',\n",
    "                'cited_year',\n",
    "                'cited_predominant_country',\n",
    "                'cited_conference',\n",
    "                'cited_authors',\n",
    "                'cited_country',\n",
    "                'cited_institution'                \n",
    "            ])\n",
    "        ), \n",
    "        on=[\"source_title\", \"source_year\", \"cited_title\", \"cited_year\"]\n",
    "    )\n",
    ").head(100)"
   ]
  },
  {
   "cell_type": "code",
   "execution_count": null,
   "id": "5db2e461",
   "metadata": {},
   "outputs": [],
   "source": [
    "\n",
    "filters = [\n",
    "    FilterCondition(\n",
    "        parenthesis=mpq.ParenthesisIndicator.open,\n",
    "        field=\"Authors\",\n",
    "        operator=\"eq\",\n",
    "        values=[\"Juan\"]\n",
    "    ),\n",
    "    FilterCondition(\n",
    "        connector=mpq.LogicConnector.or_op,\n",
    "        parenthesis=mpq.ParenthesisIndicator.close,\n",
    "        field=\"Authors\",\n",
    "        operator=mpq.ComparisonOperator.eq,\n",
    "        values=[\"Pablo\"]\n",
    "    ),\n",
    "    FilterCondition(\n",
    "        connector=mpq.LogicConnector.and_op,\n",
    "        field=\"Year\",\n",
    "        operator=mpq.ComparisonOperator.eq,\n",
    "        values=[\"2022\"]\n",
    "    )      \n",
    "    \n",
    "]\n",
    "\n",
    "source_filters = SourceFilters(text=\"aaaaaa\", filters=filters)"
   ]
  },
  {
   "cell_type": "code",
   "execution_count": null,
   "id": "ad452455",
   "metadata": {},
   "outputs": [],
   "source": [
    "source_filters"
   ]
  },
  {
   "cell_type": "code",
   "execution_count": null,
   "id": "4eec31ef",
   "metadata": {},
   "outputs": [],
   "source": [
    "query_client.translate_vector_db_filters(filter=source_filters)"
   ]
  },
  {
   "cell_type": "code",
   "execution_count": null,
   "id": "e5c27133",
   "metadata": {},
   "outputs": [],
   "source": [
    "\n",
    "f\"[{\", \".join(f'\"{value}\"' for value in [\"aaaa\", \"bbbb\", \"cccc\"])}]\""
   ]
  },
  {
   "cell_type": "code",
   "execution_count": null,
   "id": "825458ac",
   "metadata": {},
   "outputs": [],
   "source": [
    "print(mpq.LogicConnector.or_op.value)"
   ]
  },
  {
   "cell_type": "code",
   "execution_count": null,
   "id": "9d7eab1e",
   "metadata": {},
   "outputs": [],
   "source": [
    "source_filters = SourceFilters(\n",
    "    text=\"Spot instances\", \n",
    "    filters=[\n",
    "        FilterCondition(\n",
    "            connector=mpq.LogicConnector.none.value,\n",
    "            field=\"Year\",\n",
    "            operator=mpq.ComparisonOperator.eq,\n",
    "            values=[\"2022\"]\n",
    "        )\n",
    "    ]\n",
    ")\n",
    "df_result = query_client.query(QueryParameters(source_filters=source_filters))"
   ]
  },
  {
   "cell_type": "code",
   "execution_count": null,
   "id": "89d05840",
   "metadata": {},
   "outputs": [],
   "source": [
    "from ollama import chat, ChatResponse        \n",
    "\n",
    "def get_sql_query(query):\n",
    "    schema = df_result.schema\n",
    "    SYSTEM_PROMPT = f\"\"\"\n",
    "    You are an AI assistant that translates a given query abou papers into a valid SQL query to a table with the following schema of columns:\n",
    "    {schema}\\n\n",
    "    \"\"\"\n",
    "\n",
    "    USER_PROMPT = query\n",
    "\n",
    "    llms = [\n",
    "        \"llama3.1:8b\",\n",
    "        \"llama3.2\",\n",
    "        \"gemma3:12b-it-qat\",\n",
    "        \"llama3.1:8b\",\n",
    "        \"qwen3\"\n",
    "    ]\n",
    "    selected_llm = 0\n",
    "    print(llms[2])\n",
    "    \n",
    "    response: ChatResponse = chat(\n",
    "        model=llms[selected_llm],\n",
    "        messages=[\n",
    "            {\"role\": \"system\", \"content\": SYSTEM_PROMPT},\n",
    "            {\"role\": \"user\", \"content\": USER_PROMPT},\n",
    "        ]\n",
    "    )\n",
    "    print(response)\n",
    "    return response\n",
    "\n"
   ]
  },
  {
   "cell_type": "code",
   "execution_count": null,
   "id": "2ae16032",
   "metadata": {},
   "outputs": [],
   "source": [
    "print(get_sql_query(\"\"\"\n",
    "    What are the most cited papers in year 2022 published by German universities about spot instances            \n",
    "\"\"\").message.content)"
   ]
  },
  {
   "cell_type": "markdown",
   "id": "557a161d",
   "metadata": {},
   "source": [
    "# Queries a realizar\n",
    "\n",
    "Listado de queries a elaborar\n",
    "1. Obtener papers por año en cada conferencia de publicaciones asiáticas -> Hecho con filtro\n",
    "2. Distribución por continentes de cada paper aceptado -> Se hace con acumulado\n",
    "3. Diversidad por continente de los miembros del comité de cada conferencia\n",
    "4. Comparación por paper de los continentes de los comités de cada conferencia \n",
    "5. Cálculo de índice de Gini-Simpson\n"
   ]
  },
  {
   "cell_type": "code",
   "execution_count": 1,
   "id": "fe8d915a",
   "metadata": {},
   "outputs": [
    {
     "name": "stderr",
     "output_type": "stream",
     "text": [
      "/home/luis-garcia/projects/tfm/.venv/lib/python3.13/site-packages/tqdm/auto.py:21: TqdmWarning: IProgress not found. Please update jupyter and ipywidgets. See https://ipywidgets.readthedocs.io/en/stable/user_install.html\n",
      "  from .autonotebook import tqdm as notebook_tqdm\n"
     ]
    }
   ],
   "source": [
    "import src.papers.domain.multimodal_paper_query as mpq\n",
    "from src.papers.domain.multimodal_paper_query import Conference, FilterCondition\n",
    "from src.papers.io.db import Milvus, Neo4j, SQLite\n",
    "import os\n",
    "import polars as pl\n",
    "from pydantic import BaseModel, Field\n",
    "from typing import Optional\n",
    "from enum import Enum\n",
    "import pycountry_convert as pc\n",
    "\n",
    "MILVUS_COLLECTION = os.getenv(\"MILVUS_COLLECTION\")\n",
    "MILVUS_ALIAS = os.getenv(\"MILVUS_ALIAS\")\n",
    "MILVUS_HOST = os.getenv(\"MILVUS_HOST\")\n",
    "MILVUS_PORT = os.getenv(\"MILVUS_PORT\")\n",
    "NEO4J_URI = os.getenv(\"NEO4J_URI\")\n",
    "NEO4J_USERNAME = os.getenv(\"NEO4J_USERNAME\")\n",
    "NEO4J_PASSWORD = os.getenv(\"NEO4J_PASSWORD\")\n",
    "NEO4J_DATABASE = os.getenv(\"NEO4J_DATABASE\")\n",
    "\n",
    "milvus_client = Milvus(\n",
    "        collection=MILVUS_COLLECTION, \n",
    "        alias=MILVUS_ALIAS,\n",
    "        host=MILVUS_HOST,\n",
    "        port=MILVUS_PORT,\n",
    "    )   \n",
    "neo4j_client = Neo4j(\n",
    "    uri=NEO4J_URI,\n",
    "    username=NEO4J_USERNAME,\n",
    "    password=NEO4J_PASSWORD,\n",
    "    database=NEO4J_DATABASE\n",
    ")\n",
    "\n",
    "query_client = mpq.MultiModalPaperQuery(relational_db_client=SQLite, vector_db_client=milvus_client, graph_db_client=neo4j_client)"
   ]
  },
  {
   "cell_type": "code",
   "execution_count": 28,
   "id": "30c0ea3b",
   "metadata": {},
   "outputs": [],
   "source": [
    "class Conference(str, Enum):\n",
    "    \"\"\"\n",
    "    Supported conferences for papers\n",
    "    \"\"\"\n",
    "    ccgrid = \"ccgrid\"\n",
    "    eurosys = \"eurosys\"\n",
    "\n",
    "class Continent(str, Enum):\n",
    "    \"\"\"\n",
    "    Continent codes and their description\n",
    "    \"\"\"    \n",
    "    AS = 'Asia',\n",
    "    EU = 'Europe',\n",
    "    NA = 'North America',\n",
    "    SA = 'South America',\n",
    "    AF = 'Africa',\n",
    "    OC = 'Oceania',\n",
    "    AN = 'Antarctica'\n",
    "\n",
    "class PapersPerConferenceContinentYearParameters(BaseModel):\n",
    "    \"\"\"\n",
    "    Parameters to query papers per conference, continent and year\n",
    "    \"\"\"\n",
    "    conferences: Optional[list[Conference]] = Field(default=None, description=\"Conference to use as filter\")\n",
    "    years: Optional[list[str]] = Field(default=None, description=\"Years to use as filter\")\n",
    "    continents: Optional[list[str]] = Field(default=None, description=\"Continents to filter by\")\n",
    "\n",
    "class PapersPerConferenceAndContinent(BaseModel):\n",
    "    \"\"\"\n",
    "    Parameters to query papers per conference and continent\n",
    "    \"\"\"\n",
    "    conferences: Optional[list[Conference]] = Field(default=None, description=\"Conference to use as filter\")\n",
    "    continents: Optional[list[str]] = Field(default=None, description=\"Continents to filter by\")    \n",
    "\n",
    "# Distribución por continentes\n",
    "def query_paper_count_per_conference_continent_and_year(parameters: PapersPerConferenceContinentYearParameters) -> pl.DataFrame:  \n",
    "    \"\"\"\n",
    "    Method to query papers published per conference and continent\n",
    "    Args:\n",
    "        parameters (CitationsPerContinentParameters): _description_\n",
    "\n",
    "    Returns:\n",
    "        pl.DataFrame: Dataframe with calculated number of papers published in each conference,\n",
    "                    year and continent\n",
    "    \"\"\"\n",
    "    filter_conditions = []\n",
    "    if parameters.conferences and len(parameters.conferences) > 0:\n",
    "        filter_conditions.append(\n",
    "            FilterCondition(\n",
    "                connector=mpq.LogicConnector.none.value,\n",
    "                field=\"Conference\",\n",
    "                operator=mpq.ComparisonOperator.eq.value,\n",
    "                values=parameters.conferences\n",
    "            )\n",
    "        )\n",
    "    \n",
    "    if parameters.years and len(parameters.years) > 0:\n",
    "        filter_conditions.append(\n",
    "            FilterCondition(\n",
    "                connector=mpq.LogicConnector.and_op.value if len(filter_conditions) > 0 else mpq.LogicConnector.none.value,\n",
    "                field=\"Year\",\n",
    "                operator=mpq.ComparisonOperator.eq.value,\n",
    "                values=parameters.years\n",
    "            )\n",
    "        )\n",
    "             \n",
    "    query_parameters = mpq.QueryParameters(\n",
    "        source_filters=mpq.SourceFilters(\n",
    "            text=None,\n",
    "            filters=filter_conditions if len(filter_conditions) > 0 else None\n",
    "        )\n",
    "    )\n",
    "    \n",
    "    df_query = query_client.query(query_parameters)        \n",
    "    df_result = (\n",
    "        df_query\n",
    "        .select([\n",
    "            \"source_title\",\n",
    "            \"source_year\",\n",
    "            \"source_predominant_continent\",\n",
    "            \"source_conference\"\n",
    "        ])\n",
    "        .explode(\"source_predominant_continent\")        \n",
    "        .filter(\n",
    "            pl.when(parameters.continents is not None)\n",
    "            .then(pl.col(\"source_predominant_continent\").is_in(parameters.continents))\n",
    "            .otherwise(True)            \n",
    "        )\n",
    "        .unique()\n",
    "        .group_by(\"source_year\", \"source_conference\", \"source_predominant_continent\")\n",
    "        .agg([\n",
    "            pl.len().alias(\"paper_count\")\n",
    "        ])\n",
    "        .sort(\"source_conference\",\"source_year\", \"paper_count\", descending=True)\n",
    "    )\n",
    "    \n",
    "    return df_result\n",
    "\n",
    "def query_paper_count_per_conference_and_continent(parameters: PapersPerConferenceAndContinent) -> pl.DataFrame:\n",
    "    \n",
    "    parameters_per_year = PapersPerConferenceContinentYearParameters(\n",
    "        conferences=parameters.conferences, \n",
    "        continents=parameters.continents,    \n",
    "    )\n",
    "    df_result = (\n",
    "        query_paper_count_per_conference_continent_and_year(parameters_per_year)\n",
    "        .group_by(\"source_conference\", \"source_predominant_continent\")\n",
    "        .agg([\n",
    "            pl.sum(\"paper_count\")\n",
    "        ])\n",
    "        .sort(\"source_conference\", \"paper_count\", descending=True)\n",
    "    )\n",
    "    return df_result\n",
    "    \n",
    "    "
   ]
  },
  {
   "cell_type": "code",
   "execution_count": null,
   "id": "49197b43",
   "metadata": {},
   "outputs": [],
   "source": [
    "# df_result = query_paper_count_per_conference_and_continent(CitationsPerContinentParameters(years=[\"2020\", \"2021\", \"2022\"], conferences=[\"ccgrid\"], continents=[\"Asia\", \"Europe\"]))\n",
    "df_result = query_paper_count_per_conference_and_continent(\n",
    "    PapersPerConferenceAndContinent(\n",
    "        conferences=[\"ccgrid\"], \n",
    "        # years=[\"2020\"]\n",
    "        continents=[\"Asia\", \"Europe\"]\n",
    "    )\n",
    ")\n",
    "df_result.head(15)"
   ]
  },
  {
   "cell_type": "code",
   "execution_count": null,
   "id": "4f62fa29",
   "metadata": {},
   "outputs": [],
   "source": [
    "# Papers por año de cada conferencia de publicaciones por continente país\n",
    "\n",
    "def get_continent(country_code):\n",
    "    try:\n",
    "        continent_code = pc.country_alpha2_to_continent_code(country_code)\n",
    "        continent_name = pc.convert_continent_code_to_continent_name(continent_code)\n",
    "        return continent_name\n",
    "    except:\n",
    "        return \"Unknown\"\n",
    "    \n",
    "def get_committees_per_conference_country_year(\n",
    "    conferences: Optional[list[Conference]]=None,\n",
    "    years: Optional[list[str]]=None\n",
    ") -> pl.DataFrame:\n",
    "    df_query = query_client.get_conference_committees(conferences)\n",
    "    df_result = (\n",
    "        df_query\n",
    "        # .filter(pl.col(\"source_predominant_continent\").is_in(conferences))\n",
    "        .unnest(\"committee\")\n",
    "        .group_by(\"conference\", \"year\", \"committee_country\")\n",
    "        .agg([\n",
    "            pl.len().alias(\"committee_count\")\n",
    "        ])\n",
    "        .sort(\"conference\", \"year\", \"committee_count\", descending=True)\n",
    "    )\n",
    "    return df_result\n",
    "\n",
    "def get_committees_per_continent(\n",
    "    conferences: Optional[list[Conference]]=None, \n",
    "    continents: Optional[list[Continent]]=None\n",
    ") -> pl.DataFrame:\n",
    "    df_query = get_committees_per_year(\n",
    "        conferences=conferences\n",
    "    )\n",
    "    \n",
    "    df_result = (\n",
    "        df_query\n",
    "        .with_columns([\n",
    "            pl.col(\"committee_country\")\n",
    "            .map_elements(get_continent, return_dtype=pl.String)\n",
    "            .alias(\"continent\")\n",
    "        ])\n",
    "        .filter(\n",
    "            pl.when(continents is not None)\n",
    "            .then(pl.col(\"continent\").is_in(continents))\n",
    "            .otherwise(True)            \n",
    "        )        \n",
    "        .group_by(\"conference\", \"year\", \"continent\")\n",
    "        .agg([\n",
    "            pl.sum(\"committee_count\").alias(\"committee_count\")\n",
    "        ])\n",
    "        .sort(\"conference\", \"year\", \"committee_count\", descending=True)        \n",
    "    )\n",
    "    return df_result"
   ]
  },
  {
   "cell_type": "code",
   "execution_count": 45,
   "id": "5f9c8ad1",
   "metadata": {},
   "outputs": [
    {
     "data": {
      "text/html": [
       "<div><style>\n",
       ".dataframe > thead > tr,\n",
       ".dataframe > tbody > tr {\n",
       "  text-align: right;\n",
       "  white-space: pre-wrap;\n",
       "}\n",
       "</style>\n",
       "<small>shape: (222, 4)</small><table border=\"1\" class=\"dataframe\"><thead><tr><th>conference</th><th>year</th><th>continent</th><th>committee_count</th></tr><tr><td>str</td><td>str</td><td>str</td><td>u32</td></tr></thead><tbody><tr><td>&quot;sigcomm&quot;</td><td>&quot;2023&quot;</td><td>&quot;North America&quot;</td><td>39</td></tr><tr><td>&quot;sigcomm&quot;</td><td>&quot;2023&quot;</td><td>&quot;Asia&quot;</td><td>12</td></tr><tr><td>&quot;sigcomm&quot;</td><td>&quot;2022&quot;</td><td>&quot;North America&quot;</td><td>45</td></tr><tr><td>&quot;sigcomm&quot;</td><td>&quot;2022&quot;</td><td>&quot;Asia&quot;</td><td>5</td></tr><tr><td>&quot;sigcomm&quot;</td><td>&quot;2021&quot;</td><td>&quot;North America&quot;</td><td>41</td></tr><tr><td>&hellip;</td><td>&hellip;</td><td>&hellip;</td><td>&hellip;</td></tr><tr><td>&quot;IEEEcloud&quot;</td><td>&quot;2014&quot;</td><td>&quot;Asia&quot;</td><td>15</td></tr><tr><td>&quot;IEEEcloud&quot;</td><td>&quot;2013&quot;</td><td>&quot;North America&quot;</td><td>58</td></tr><tr><td>&quot;IEEEcloud&quot;</td><td>&quot;2013&quot;</td><td>&quot;Asia&quot;</td><td>17</td></tr><tr><td>&quot;IEEEcloud&quot;</td><td>&quot;2012&quot;</td><td>&quot;North America&quot;</td><td>66</td></tr><tr><td>&quot;IEEEcloud&quot;</td><td>&quot;2012&quot;</td><td>&quot;Asia&quot;</td><td>18</td></tr></tbody></table></div>"
      ],
      "text/plain": [
       "shape: (222, 4)\n",
       "┌────────────┬──────┬───────────────┬─────────────────┐\n",
       "│ conference ┆ year ┆ continent     ┆ committee_count │\n",
       "│ ---        ┆ ---  ┆ ---           ┆ ---             │\n",
       "│ str        ┆ str  ┆ str           ┆ u32             │\n",
       "╞════════════╪══════╪═══════════════╪═════════════════╡\n",
       "│ sigcomm    ┆ 2023 ┆ North America ┆ 39              │\n",
       "│ sigcomm    ┆ 2023 ┆ Asia          ┆ 12              │\n",
       "│ sigcomm    ┆ 2022 ┆ North America ┆ 45              │\n",
       "│ sigcomm    ┆ 2022 ┆ Asia          ┆ 5               │\n",
       "│ sigcomm    ┆ 2021 ┆ North America ┆ 41              │\n",
       "│ …          ┆ …    ┆ …             ┆ …               │\n",
       "│ IEEEcloud  ┆ 2014 ┆ Asia          ┆ 15              │\n",
       "│ IEEEcloud  ┆ 2013 ┆ North America ┆ 58              │\n",
       "│ IEEEcloud  ┆ 2013 ┆ Asia          ┆ 17              │\n",
       "│ IEEEcloud  ┆ 2012 ┆ North America ┆ 66              │\n",
       "│ IEEEcloud  ┆ 2012 ┆ Asia          ┆ 18              │\n",
       "└────────────┴──────┴───────────────┴─────────────────┘"
      ]
     },
     "execution_count": 45,
     "metadata": {},
     "output_type": "execute_result"
    }
   ],
   "source": [
    "get_committees_per_continent(continents=[\"North America\", \"Asia\"])\n"
   ]
  },
  {
   "cell_type": "code",
   "execution_count": null,
   "id": "3611fccd",
   "metadata": {},
   "outputs": [
    {
     "data": {
      "text/plain": [
       "'Antarctica'"
      ]
     },
     "execution_count": 32,
     "metadata": {},
     "output_type": "execute_result"
    }
   ],
   "source": [
    "Continent.AN.vale"
   ]
  },
  {
   "cell_type": "code",
   "execution_count": null,
   "id": "32c8f856",
   "metadata": {},
   "outputs": [],
   "source": [
    "from enum import Enum\n",
    "class Country(str, Enum):\n",
    "    \"\"\"\n",
    "    Supported conferences for papers\n",
    "    \"\"\"\n",
    "    JP = \"JP\"\n",
    "    eurosys = \"eurosys\"\n",
    "countries = ['JP', 'NL', 'CN', 'US', 'FR', 'DE']\n",
    "asian_countries = []\n",
    "asian_from_list = [print(country) for country in countries if country in _countries or not asian_countries]"
   ]
  },
  {
   "cell_type": "code",
   "execution_count": null,
   "id": "fff1bfdf",
   "metadata": {},
   "outputs": [],
   "source": [
    "from enum import Enum\n",
    "class Conference(str, Enum):\n",
    "    \"\"\"\n",
    "    Supported conferences for papers\n",
    "    \"\"\"\n",
    "    ccgrid = \"ccgrid\"\n",
    "    eurosys = \"eurosys\"\n",
    "    \n",
    "[print(conference.value) for conference in Conference]"
   ]
  },
  {
   "cell_type": "code",
   "execution_count": null,
   "id": "79b52a8e",
   "metadata": {},
   "outputs": [],
   "source": [
    "[k for k in {\"asdas\": \"asdasd\", \"qqq\": \"dasdas\"}]"
   ]
  },
  {
   "cell_type": "code",
   "execution_count": null,
   "id": "5e75e52c",
   "metadata": {},
   "outputs": [],
   "source": []
  }
 ],
 "metadata": {
  "kernelspec": {
   "display_name": "tfm",
   "language": "python",
   "name": "python3"
  },
  "language_info": {
   "codemirror_mode": {
    "name": "ipython",
    "version": 3
   },
   "file_extension": ".py",
   "mimetype": "text/x-python",
   "name": "python",
   "nbconvert_exporter": "python",
   "pygments_lexer": "ipython3",
   "version": "3.13.3"
  }
 },
 "nbformat": 4,
 "nbformat_minor": 5
}
