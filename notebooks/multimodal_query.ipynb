{
 "cells": [
  {
   "cell_type": "code",
   "execution_count": null,
   "id": "0d81cfb1",
   "metadata": {},
   "outputs": [],
   "source": [
    "from src.papers.domain.multimodal_paper_query import ComparisonOperator, FilterCondition, SourceFilters, CitationFilters, QueryParameters, MultiModalPaperQuery, CitationParameters\n",
    "from src.papers.io.db import Milvus, Neo4j, SQLite\n",
    "import os"
   ]
  },
  {
   "cell_type": "code",
   "execution_count": null,
   "id": "2d258945",
   "metadata": {},
   "outputs": [],
   "source": [
    "MILVUS_COLLECTION = os.getenv(\"MILVUS_COLLECTION\")\n",
    "MILVUS_ALIAS = os.getenv(\"MILVUS_ALIAS\")\n",
    "MILVUS_HOST = os.getenv(\"MILVUS_HOST\")\n",
    "MILVUS_PORT = os.getenv(\"MILVUS_PORT\")\n",
    "NEO4J_URI = os.getenv(\"NEO4J_URI\")\n",
    "NEO4J_USERNAME = os.getenv(\"NEO4J_USERNAME\")\n",
    "NEO4J_PASSWORD = os.getenv(\"NEO4J_PASSWORD\")\n",
    "NEO4J_DATABASE = os.getenv(\"NEO4J_DATABASE\")"
   ]
  },
  {
   "cell_type": "code",
   "execution_count": null,
   "id": "1bb7d5c5",
   "metadata": {},
   "outputs": [],
   "source": [
    "milvus_client = Milvus(\n",
    "        collection=MILVUS_COLLECTION, \n",
    "        alias=MILVUS_ALIAS,\n",
    "        host=MILVUS_HOST,\n",
    "        port=MILVUS_PORT,\n",
    "    )   "
   ]
  },
  {
   "cell_type": "code",
   "execution_count": null,
   "id": "53ea600b",
   "metadata": {},
   "outputs": [],
   "source": [
    "neo4j_client = Neo4j(\n",
    "    uri=NEO4J_URI,\n",
    "    username=NEO4J_USERNAME,\n",
    "    password=NEO4J_PASSWORD,\n",
    "    database=NEO4J_DATABASE\n",
    ")"
   ]
  },
  {
   "cell_type": "code",
   "execution_count": null,
   "id": "4b31eb5b",
   "metadata": {},
   "outputs": [],
   "source": [
    "sqlite_client = SQLite(\"\")"
   ]
  },
  {
   "cell_type": "code",
   "execution_count": null,
   "id": "7d17c07e",
   "metadata": {},
   "outputs": [
    {
     "data": {
      "text/html": [
       "<div><style>\n",
       ".dataframe > thead > tr,\n",
       ".dataframe > tbody > tr {\n",
       "  text-align: right;\n",
       "  white-space: pre-wrap;\n",
       "}\n",
       "</style>\n",
       "<small>shape: (10, 10)</small><table border=\"1\" class=\"dataframe\"><thead><tr><th>Authors</th><th>Abstract</th><th>Summary</th><th>KeyConcepts</th><th>Conference</th><th>TLDR</th><th>Title</th><th>Institutions</th><th>Countries</th><th>Year</th></tr><tr><td>list[str]</td><td>str</td><td>str</td><td>str</td><td>str</td><td>str</td><td>str</td><td>list[str]</td><td>list[str]</td><td>str</td></tr></thead><tbody><tr><td>[&quot;Wesam Dawoud&quot;, &quot;Ibrahim Takouna&quot;, &quot;Christoph Meinel&quot;]</td><td>&quot;Traditionally, Infrastructure …</td><td>&quot;Here is a summary of the paper…</td><td>&quot;spot instances, instances spot…</td><td>&quot;IEEEcloud&quot;</td><td>&quot;Elastic Spot Instances (ESIs) …</td><td>&quot;Increasing Spot Instances Reli…</td><td>[&quot;Hasso Plattner Institute&quot;, &quot;Hasso Plattner Institute&quot;, &quot;Hasso Plattner Institute&quot;]</td><td>[&quot;DE&quot;, &quot;DE&quot;, &quot;DE&quot;]</td><td>&quot;2012&quot;</td></tr><tr><td>[&quot;Sunirmal Khatua&quot;, &quot;Nandini Mukherjee&quot;]</td><td>&quot;Amazon&#x27;s spot instances allow …</td><td>&quot;Researchers studied checkpoint…</td><td>&quot;amazon spot, scheme amazon, in…</td><td>&quot;ccgrid&quot;</td><td>&quot;This paper studies various che…</td><td>&quot;A Novel Checkpointing Scheme f…</td><td>[&quot;Jadavpur University&quot;]</td><td>[&quot;IN&quot;]</td><td>&quot;2013&quot;</td></tr><tr><td>[&quot;Prateek Sharma&quot;, &quot;Stephen Lee&quot;, … &quot;Prashant Shenoy&quot;]</td><td>&quot;Infrastructure-as-a-Service (I…</td><td>&quot;This paper proposes SpotCheck,…</td><td>&quot;cloud platforms, cloud spot, s…</td><td>&quot;eurosys&quot;</td><td>&quot;This paper proposes a derivati…</td><td>&quot;SpotCheck: designing a derivat…</td><td>[&quot;University of Massachusetts Amherst&quot;, &quot;University of Massachusetts Amherst&quot;, … &quot;University of Massachusetts Amherst&quot;]</td><td>[&quot;US&quot;, &quot;US&quot;, … &quot;US&quot;]</td><td>&quot;2015&quot;</td></tr><tr><td>[&quot;Peijian Wang&quot;, &quot;Yong Qi&quot;, … &quot;Xue Li&quot;]</td><td>&quot;The recent years witnessed rap…</td><td>&quot;A demand curve is presented to…</td><td>&quot;spot resources, spot price, pr…</td><td>&quot;icdcs&quot;</td><td>&quot;A demand curve is presented to…</td><td>&quot;Present or Future: Optimal Pri…</td><td>[&quot;Xi&#x27;an Jiaotong University&quot;, &quot;Xi&#x27;an Jiaotong University&quot;, … &quot;McGill University&quot;]</td><td>[&quot;CN&quot;, &quot;CN&quot;, … &quot;CA&quot;]</td><td>&quot;2013&quot;</td></tr><tr><td>[&quot;Kyungyong Lee&quot;, &quot;Myungjun Son&quot;]</td><td>&quot;Cloud computing resources that…</td><td>&quot;DeepSpotCloud is a proposed sy…</td><td>&quot;deepspotcloud leveraging, deep…</td><td>&quot;IEEEcloud&quot;</td><td>&quot;DeepSpotCloud is proposed that…</td><td>&quot;DeepSpotCloud: Leveraging Cros…</td><td>[]</td><td>[]</td><td>&quot;2017&quot;</td></tr><tr><td>[&quot;Thanh-Phuong Pham&quot;, &quot;Sasko Ristov&quot;, &quot;Thomas Fahringer&quot;]</td><td>&quot;Amazon EC2&#x27;s spot instances (S…</td><td>&quot;Amazon EC2 Spot Instances (SIs…</td><td>&quot;ec2 spot, amazon ec2, characte…</td><td>&quot;IEEEcloud&quot;</td><td>&quot;A comprehensive experimental e…</td><td>&quot;Performance and Behavior Chara…</td><td>[&quot;Universität Innsbruck&quot;, &quot;Universität Innsbruck&quot;, &quot;Universität Innsbruck&quot;]</td><td>[&quot;AT&quot;, &quot;AT&quot;, &quot;AT&quot;]</td><td>&quot;2018&quot;</td></tr><tr><td>[&quot;Yan Li&quot;, &quot;Bo An&quot;, … &quot;Hong Mei&quot;]</td><td>&quot;Hyper-parameter tuning (HPT) i…</td><td>&quot;SpotTune is a proposed approac…</td><td>&quot;tuning hpt, strategies hpt, hp…</td><td>&quot;icdcs&quot;</td><td>&quot;SpotTune is proposed, an appro…</td><td>&quot;SpotTune: Leveraging Transient…</td><td>[&quot;Peking University&quot;, &quot;Peking University&quot;, … &quot;Peking University&quot;]</td><td>[&quot;CN&quot;, &quot;CN&quot;, … &quot;CN&quot;]</td><td>&quot;2020&quot;</td></tr><tr><td>[&quot;Cheng Wang&quot;, &quot;Bhuvan Urgaonkar&quot;, … &quot;Qianlin Liang&quot;]</td><td>&quot;In order to keep the costs of …</td><td>&quot;This paper proposes optimizing…</td><td>&quot;storage public, public cloud, …</td><td>&quot;eurosys&quot;</td><td>&quot;This work devise novel ideas a…</td><td>&quot;Exploiting Spot and Burstable …</td><td>[&quot;Pennsylvania State University&quot;, &quot;IBM Research - Almaden&quot;, … &quot;Pennsylvania State University&quot;]</td><td>[&quot;US&quot;, &quot;US&quot;, … &quot;US&quot;]</td><td>&quot;2017&quot;</td></tr><tr><td>[&quot;Abdullah Alourani&quot;, &quot;Ajay D. Kshemkalyani&quot;, &quot;Mark Grechanik&quot;]</td><td>&quot;One of the major advantages of…</td><td>&quot;Cloud spot instances offer low…</td><td>&quot;advantages cloud, cloud instan…</td><td>&quot;IEEEcloud&quot;</td><td>&quot;The results show that the prop…</td><td>&quot;Testing for Bugs of Cloud-Base…</td><td>[&quot;University of Illinois at Chicago&quot;, &quot;University of Illinois at Chicago&quot;, &quot;University of Illinois at Chicago&quot;]</td><td>[&quot;US&quot;, &quot;US&quot;, &quot;US&quot;]</td><td>&quot;2019&quot;</td></tr><tr><td>[&quot;Supreeth Subramanya&quot;, &quot;Tian Guo&quot;, … &quot;Prashant Shenoy&quot;]</td><td>&quot;Cloud spot markets enable user…</td><td>&quot;A batch computing service call…</td><td>&quot;spot market, spot markets, spo…</td><td>&quot;cloud&quot;</td><td>&quot;The design of a batch computin…</td><td>&quot;SpotOn: a batch computing serv…</td><td>[&quot;University of Massachusetts Amherst&quot;, &quot;University of Massachusetts Amherst&quot;, … &quot;University of Massachusetts Amherst&quot;]</td><td>[&quot;US&quot;, &quot;US&quot;, … &quot;US&quot;]</td><td>&quot;2015&quot;</td></tr></tbody></table></div>"
      ],
      "text/plain": [
       "shape: (10, 10)\n",
       "┌────────────┬────────────┬────────────┬────────────┬───┬───────────┬───────────┬───────────┬──────┐\n",
       "│ Authors    ┆ Abstract   ┆ Summary    ┆ KeyConcept ┆ … ┆ Title     ┆ Instituti ┆ Countries ┆ Year │\n",
       "│ ---        ┆ ---        ┆ ---        ┆ s          ┆   ┆ ---       ┆ ons       ┆ ---       ┆ ---  │\n",
       "│ list[str]  ┆ str        ┆ str        ┆ ---        ┆   ┆ str       ┆ ---       ┆ list[str] ┆ str  │\n",
       "│            ┆            ┆            ┆ str        ┆   ┆           ┆ list[str] ┆           ┆      │\n",
       "╞════════════╪════════════╪════════════╪════════════╪═══╪═══════════╪═══════════╪═══════════╪══════╡\n",
       "│ [\"Wesam    ┆ Traditiona ┆ Here is a  ┆ spot       ┆ … ┆ Increasin ┆ [\"Hasso   ┆ [\"DE\",    ┆ 2012 │\n",
       "│ Dawoud\",   ┆ lly, Infra ┆ summary of ┆ instances, ┆   ┆ g Spot    ┆ Plattner  ┆ \"DE\",     ┆      │\n",
       "│ \"Ibrahim   ┆ structure  ┆ the paper… ┆ instances  ┆   ┆ Instances ┆ Institute ┆ \"DE\"]     ┆      │\n",
       "│ Tako…      ┆ …          ┆            ┆ spot…      ┆   ┆ Reli…     ┆ \", \"…     ┆           ┆      │\n",
       "│ [\"Sunirmal ┆ Amazon's   ┆ Researcher ┆ amazon     ┆ … ┆ A Novel   ┆ [\"Jadavpu ┆ [\"IN\"]    ┆ 2013 │\n",
       "│ Khatua\",   ┆ spot       ┆ s studied  ┆ spot,      ┆   ┆ Checkpoin ┆ r Univers ┆           ┆      │\n",
       "│ \"Nandini   ┆ instances  ┆ checkpoint ┆ scheme     ┆   ┆ ting      ┆ ity\"]     ┆           ┆      │\n",
       "│ M…         ┆ allow …    ┆ …          ┆ amazon,    ┆   ┆ Scheme f… ┆           ┆           ┆      │\n",
       "│            ┆            ┆            ┆ in…        ┆   ┆           ┆           ┆           ┆      │\n",
       "│ [\"Prateek  ┆ Infrastruc ┆ This paper ┆ cloud      ┆ … ┆ SpotCheck ┆ [\"Univers ┆ [\"US\",    ┆ 2015 │\n",
       "│ Sharma\",   ┆ ture-as-a- ┆ proposes   ┆ platforms, ┆   ┆ :         ┆ ity of    ┆ \"US\", …   ┆      │\n",
       "│ \"Stephen   ┆ Service    ┆ SpotCheck, ┆ cloud      ┆   ┆ designing ┆ Massachus ┆ \"US\"]     ┆      │\n",
       "│ Le…        ┆ (I…        ┆ …          ┆ spot, s…   ┆   ┆ a         ┆ etts …    ┆           ┆      │\n",
       "│            ┆            ┆            ┆            ┆   ┆ derivat…  ┆           ┆           ┆      │\n",
       "│ [\"Peijian  ┆ The recent ┆ A demand   ┆ spot       ┆ … ┆ Present   ┆ [\"Xi'an   ┆ [\"CN\",    ┆ 2013 │\n",
       "│ Wang\",     ┆ years      ┆ curve is   ┆ resources, ┆   ┆ or        ┆ Jiaotong  ┆ \"CN\", …   ┆      │\n",
       "│ \"Yong Qi\", ┆ witnessed  ┆ presented  ┆ spot       ┆   ┆ Future:   ┆ Universit ┆ \"CA\"]     ┆      │\n",
       "│ … …        ┆ rap…       ┆ to…        ┆ price, pr… ┆   ┆ Optimal   ┆ y\", …     ┆           ┆      │\n",
       "│            ┆            ┆            ┆            ┆   ┆ Pri…      ┆           ┆           ┆      │\n",
       "│ [\"Kyungyon ┆ Cloud      ┆ DeepSpotCl ┆ deepspotcl ┆ … ┆ DeepSpotC ┆ []        ┆ []        ┆ 2017 │\n",
       "│ g Lee\",    ┆ computing  ┆ oud is a   ┆ oud levera ┆   ┆ loud: Lev ┆           ┆           ┆      │\n",
       "│ \"Myungjun  ┆ resources  ┆ proposed   ┆ ging,      ┆   ┆ eraging   ┆           ┆           ┆      │\n",
       "│ So…        ┆ that…      ┆ sy…        ┆ deep…      ┆   ┆ Cros…     ┆           ┆           ┆      │\n",
       "│ [\"Thanh-Ph ┆ Amazon     ┆ Amazon EC2 ┆ ec2 spot,  ┆ … ┆ Performan ┆ [\"Univers ┆ [\"AT\",    ┆ 2018 │\n",
       "│ uong       ┆ EC2's spot ┆ Spot       ┆ amazon     ┆   ┆ ce and    ┆ ität Inns ┆ \"AT\",     ┆      │\n",
       "│ Pham\",     ┆ instances  ┆ Instances  ┆ ec2,       ┆   ┆ Behavior  ┆ bruck\",   ┆ \"AT\"]     ┆      │\n",
       "│ \"Sasko R…  ┆ (S…        ┆ (SIs…      ┆ characte…  ┆   ┆ Chara…    ┆ \"Uni…     ┆           ┆      │\n",
       "│ [\"Yan Li\", ┆ Hyper-para ┆ SpotTune   ┆ tuning     ┆ … ┆ SpotTune: ┆ [\"Peking  ┆ [\"CN\",    ┆ 2020 │\n",
       "│ \"Bo An\", … ┆ meter      ┆ is a       ┆ hpt,       ┆   ┆ Leveragin ┆ Universit ┆ \"CN\", …   ┆      │\n",
       "│ \"Hong Me…  ┆ tuning     ┆ proposed   ┆ strategies ┆   ┆ g Transie ┆ y\",       ┆ \"CN\"]     ┆      │\n",
       "│            ┆ (HPT) i…   ┆ approac…   ┆ hpt, hp…   ┆   ┆ nt…       ┆ \"Peking … ┆           ┆      │\n",
       "│ [\"Cheng    ┆ In order   ┆ This paper ┆ storage    ┆ … ┆ Exploitin ┆ [\"Pennsyl ┆ [\"US\",    ┆ 2017 │\n",
       "│ Wang\",     ┆ to keep    ┆ proposes   ┆ public,    ┆   ┆ g Spot    ┆ vania     ┆ \"US\", …   ┆      │\n",
       "│ \"Bhuvan    ┆ the costs  ┆ optimizing ┆ public     ┆   ┆ and       ┆ State Uni ┆ \"US\"]     ┆      │\n",
       "│ Urgaonk…   ┆ of …       ┆ …          ┆ cloud, …   ┆   ┆ Burstable ┆ versit…   ┆           ┆      │\n",
       "│            ┆            ┆            ┆            ┆   ┆ …         ┆           ┆           ┆      │\n",
       "│ [\"Abdullah ┆ One of the ┆ Cloud spot ┆ advantages ┆ … ┆ Testing   ┆ [\"Univers ┆ [\"US\",    ┆ 2019 │\n",
       "│ Alourani\", ┆ major      ┆ instances  ┆ cloud,     ┆   ┆ for Bugs  ┆ ity of    ┆ \"US\",     ┆      │\n",
       "│ \"Ajay D.…  ┆ advantages ┆ offer low… ┆ cloud      ┆   ┆ of Cloud- ┆ Illinois  ┆ \"US\"]     ┆      │\n",
       "│            ┆ of…        ┆            ┆ instan…    ┆   ┆ Base…     ┆ at Ch…    ┆           ┆      │\n",
       "│ [\"Supreeth ┆ Cloud spot ┆ A batch    ┆ spot       ┆ … ┆ SpotOn: a ┆ [\"Univers ┆ [\"US\",    ┆ 2015 │\n",
       "│ Subramanya ┆ markets    ┆ computing  ┆ market,    ┆   ┆ batch     ┆ ity of    ┆ \"US\", …   ┆      │\n",
       "│ \", \"Tian … ┆ enable     ┆ service    ┆ spot       ┆   ┆ computing ┆ Massachus ┆ \"US\"]     ┆      │\n",
       "│            ┆ user…      ┆ call…      ┆ markets,   ┆   ┆ serv…     ┆ etts …    ┆           ┆      │\n",
       "│            ┆            ┆            ┆ spo…       ┆   ┆           ┆           ┆           ┆      │\n",
       "└────────────┴────────────┴────────────┴────────────┴───┴───────────┴───────────┴───────────┴──────┘"
      ]
     },
     "execution_count": 6,
     "metadata": {},
     "output_type": "execute_result"
    }
   ],
   "source": [
    "query_client = MultiModalPaperQuery(relational_db_client=sqlite_client, vector_db_client=milvus_client, graph_db_client=neo4j_client)\n",
    "query_client.query_vector_db(\n",
    "    \"spot_instances\"\n",
    ")\n"
   ]
  },
  {
   "cell_type": "code",
   "execution_count": null,
   "id": "1d8fc21e",
   "metadata": {},
   "outputs": [
    {
     "data": {
      "text/plain": [
       "28"
      ]
     },
     "execution_count": 7,
     "metadata": {},
     "output_type": "execute_result"
    }
   ],
   "source": [
    "param = CitationParameters(title=\"Admission Control for Elastic Cloud Services.\", year=\"2012\")\n",
    "len(query_client.get_citations(parameters=param))"
   ]
  },
  {
   "cell_type": "code",
   "execution_count": null,
   "id": "c5f1f049",
   "metadata": {},
   "outputs": [
    {
     "data": {
      "text/plain": [
       "{'title': 'Admission Control for Elastic Cloud Services.', 'year': '2012'}"
      ]
     },
     "execution_count": 8,
     "metadata": {},
     "output_type": "execute_result"
    }
   ],
   "source": [
    "param.model_dump(mode=\"json\")"
   ]
  },
  {
   "cell_type": "code",
   "execution_count": null,
   "id": "5848248e",
   "metadata": {},
   "outputs": [
    {
     "data": {
      "text/plain": [
       "QueryParameters(source_filters=None, citation_filters=CitationFilters(topic='sdasdasdasd', filters=[FilterCondition(level=0, connector=<LogicConnector.none: ''>, field='sda', operator=<ComparisonOperator.eq: 'eq'>, values=['adsaas'])]), aggregations=None)"
      ]
     },
     "execution_count": 9,
     "metadata": {},
     "output_type": "execute_result"
    }
   ],
   "source": [
    "filter_condition = FilterCondition(field = \"sda\", operator=\"eq\", values=[\"adsaas\"])\n",
    "citation_filters = CitationFilters(topic=\"sdasdasdasd\", filters=[filter_condition])\n",
    "QueryParameters(citation_filters=citation_filters)"
   ]
  },
  {
   "cell_type": "code",
   "execution_count": null,
   "id": "31e81886",
   "metadata": {},
   "outputs": [],
   "source": [
    "filters = [\n",
    "    FilterCondition(field=\"Year\", operator=\"eq\", values=[\"2012\", \"2013\", \"2014\"])\n",
    "]\n",
    "\n",
    "source_filters = SourceFilters(text=\"Spot instances\", filters=filters)\n",
    "query_parameters = QueryParameters(source_filters=source_filters)"
   ]
  },
  {
   "cell_type": "code",
   "execution_count": null,
   "id": "8aac89b6",
   "metadata": {},
   "outputs": [
    {
     "name": "stderr",
     "output_type": "stream",
     "text": [
      "/home/luis-garcia/projects/tfm/src/papers/domain/multimodal_paper_query.py:197: MapWithoutReturnDtypeWarning: Calling `map_elements` without specifying `return_dtype` can lead to unpredictable results. Specify `return_dtype` to silence this warning.\n",
      "  df_source.with_columns(\n"
     ]
    },
    {
     "ename": "ComputeError",
     "evalue": "AttributeError: 'dict' object has no attribute 'struct'",
     "output_type": "error",
     "traceback": [
      "\u001b[31m---------------------------------------------------------------------------\u001b[39m",
      "\u001b[31mComputeError\u001b[39m                              Traceback (most recent call last)",
      "\u001b[36mCell\u001b[39m\u001b[36m \u001b[39m\u001b[32mIn[11]\u001b[39m\u001b[32m, line 1\u001b[39m\n\u001b[32m----> \u001b[39m\u001b[32m1\u001b[39m \u001b[43mquery_client\u001b[49m\u001b[43m.\u001b[49m\u001b[43mquery\u001b[49m\u001b[43m(\u001b[49m\u001b[43mquery_parameters\u001b[49m\u001b[43m)\u001b[49m\n",
      "\u001b[36mFile \u001b[39m\u001b[32m~/projects/tfm/src/papers/domain/multimodal_paper_query.py:110\u001b[39m, in \u001b[36mMultiModalPaperQuery.query\u001b[39m\u001b[34m(self, query)\u001b[39m\n\u001b[32m    107\u001b[39m df_source_data = \u001b[38;5;28mself\u001b[39m.__get_source_paper_data(query.source_filters) \u001b[38;5;28;01mif\u001b[39;00m query.source_filters \u001b[38;5;28;01melse\u001b[39;00m []\n\u001b[32m    108\u001b[39m \u001b[38;5;28;01mif\u001b[39;00m \u001b[38;5;28mlen\u001b[39m(df_source_data) > \u001b[32m0\u001b[39m:\n\u001b[32m    109\u001b[39m     \u001b[38;5;66;03m# Source data was recovered, then get its citation data\u001b[39;00m\n\u001b[32m--> \u001b[39m\u001b[32m110\u001b[39m     citation_data = \u001b[38;5;28;43mself\u001b[39;49m\u001b[43m.\u001b[49m\u001b[43m__get_citations_data_from_source\u001b[49m\u001b[43m(\u001b[49m\u001b[43mdf_source_data\u001b[49m\u001b[43m)\u001b[49m\n\u001b[32m    111\u001b[39m     \u001b[38;5;28;01mreturn\u001b[39;00m citation_data\n",
      "\u001b[36mFile \u001b[39m\u001b[32m~/projects/tfm/src/papers/domain/multimodal_paper_query.py:197\u001b[39m, in \u001b[36mMultiModalPaperQuery.__get_citations_data_from_source\u001b[39m\u001b[34m(self, df_source)\u001b[39m\n\u001b[32m    193\u001b[39m \u001b[38;5;28;01mdef\u001b[39;00m\u001b[38;5;250m \u001b[39m\u001b[34mget_citations_call\u001b[39m(x): \n\u001b[32m    194\u001b[39m     \u001b[38;5;28mself\u001b[39m.__get_source_paper_data(**{\u001b[33m\"\u001b[39m\u001b[33mtitle\u001b[39m\u001b[33m\"\u001b[39m: x.struct.field(\u001b[33m\"\u001b[39m\u001b[33mTitle\u001b[39m\u001b[33m\"\u001b[39m), \u001b[33m\"\u001b[39m\u001b[33myear\u001b[39m\u001b[33m\"\u001b[39m: x.struct.field(\u001b[33m\"\u001b[39m\u001b[33mYear\u001b[39m\u001b[33m\"\u001b[39m)})\n\u001b[32m    196\u001b[39m df_papers_with_citations = (\n\u001b[32m--> \u001b[39m\u001b[32m197\u001b[39m     \u001b[43mdf_source\u001b[49m\u001b[43m.\u001b[49m\u001b[43mwith_columns\u001b[49m\u001b[43m(\u001b[49m\n\u001b[32m    198\u001b[39m \u001b[43m        \u001b[49m\u001b[43mpl\u001b[49m\u001b[43m.\u001b[49m\u001b[43mstruct\u001b[49m\u001b[43m(\u001b[49m\u001b[43m[\u001b[49m\u001b[33;43m\"\u001b[39;49m\u001b[33;43mTitle\u001b[39;49m\u001b[33;43m\"\u001b[39;49m\u001b[43m,\u001b[49m\u001b[43m \u001b[49m\u001b[33;43m\"\u001b[39;49m\u001b[33;43mYear\u001b[39;49m\u001b[33;43m\"\u001b[39;49m\u001b[43m]\u001b[49m\u001b[43m)\u001b[49m\u001b[43m.\u001b[49m\u001b[43mmap_elements\u001b[49m\u001b[43m(\u001b[49m\u001b[43mget_citations_call\u001b[49m\u001b[43m)\u001b[49m\u001b[43m.\u001b[49m\u001b[43malias\u001b[49m\u001b[43m(\u001b[49m\u001b[33;43m\"\u001b[39;49m\u001b[33;43mcitations\u001b[39;49m\u001b[33;43m\"\u001b[39;49m\u001b[43m)\u001b[49m\u001b[43m,\u001b[49m\n\u001b[32m    199\u001b[39m \u001b[43m    \u001b[49m\u001b[43m)\u001b[49m   \n\u001b[32m    200\u001b[39m )\n\u001b[32m    201\u001b[39m \u001b[38;5;28;01mreturn\u001b[39;00m df_papers_with_citations\n",
      "\u001b[36mFile \u001b[39m\u001b[32m~/projects/tfm/.venv/lib/python3.13/site-packages/polars/dataframe/frame.py:9806\u001b[39m, in \u001b[36mDataFrame.with_columns\u001b[39m\u001b[34m(self, *exprs, **named_exprs)\u001b[39m\n\u001b[32m   9660\u001b[39m \u001b[38;5;28;01mdef\u001b[39;00m\u001b[38;5;250m \u001b[39m\u001b[34mwith_columns\u001b[39m(\n\u001b[32m   9661\u001b[39m     \u001b[38;5;28mself\u001b[39m,\n\u001b[32m   9662\u001b[39m     *exprs: IntoExpr | Iterable[IntoExpr],\n\u001b[32m   9663\u001b[39m     **named_exprs: IntoExpr,\n\u001b[32m   9664\u001b[39m ) -> DataFrame:\n\u001b[32m   9665\u001b[39m \u001b[38;5;250m    \u001b[39m\u001b[33;03m\"\"\"\u001b[39;00m\n\u001b[32m   9666\u001b[39m \u001b[33;03m    Add columns to this DataFrame.\u001b[39;00m\n\u001b[32m   9667\u001b[39m \n\u001b[32m   (...)\u001b[39m\u001b[32m   9804\u001b[39m \u001b[33;03m    └─────┴──────┴─────────────┘\u001b[39;00m\n\u001b[32m   9805\u001b[39m \u001b[33;03m    \"\"\"\u001b[39;00m\n\u001b[32m-> \u001b[39m\u001b[32m9806\u001b[39m     \u001b[38;5;28;01mreturn\u001b[39;00m \u001b[38;5;28;43mself\u001b[39;49m\u001b[43m.\u001b[49m\u001b[43mlazy\u001b[49m\u001b[43m(\u001b[49m\u001b[43m)\u001b[49m\u001b[43m.\u001b[49m\u001b[43mwith_columns\u001b[49m\u001b[43m(\u001b[49m\u001b[43m*\u001b[49m\u001b[43mexprs\u001b[49m\u001b[43m,\u001b[49m\u001b[43m \u001b[49m\u001b[43m*\u001b[49m\u001b[43m*\u001b[49m\u001b[43mnamed_exprs\u001b[49m\u001b[43m)\u001b[49m\u001b[43m.\u001b[49m\u001b[43mcollect\u001b[49m\u001b[43m(\u001b[49m\u001b[43m_eager\u001b[49m\u001b[43m=\u001b[49m\u001b[38;5;28;43;01mTrue\u001b[39;49;00m\u001b[43m)\u001b[49m\n",
      "\u001b[36mFile \u001b[39m\u001b[32m~/projects/tfm/.venv/lib/python3.13/site-packages/polars/_utils/deprecation.py:93\u001b[39m, in \u001b[36mdeprecate_streaming_parameter.<locals>.decorate.<locals>.wrapper\u001b[39m\u001b[34m(*args, **kwargs)\u001b[39m\n\u001b[32m     89\u001b[39m         kwargs[\u001b[33m\"\u001b[39m\u001b[33mengine\u001b[39m\u001b[33m\"\u001b[39m] = \u001b[33m\"\u001b[39m\u001b[33min-memory\u001b[39m\u001b[33m\"\u001b[39m\n\u001b[32m     91\u001b[39m     \u001b[38;5;28;01mdel\u001b[39;00m kwargs[\u001b[33m\"\u001b[39m\u001b[33mstreaming\u001b[39m\u001b[33m\"\u001b[39m]\n\u001b[32m---> \u001b[39m\u001b[32m93\u001b[39m \u001b[38;5;28;01mreturn\u001b[39;00m \u001b[43mfunction\u001b[49m\u001b[43m(\u001b[49m\u001b[43m*\u001b[49m\u001b[43margs\u001b[49m\u001b[43m,\u001b[49m\u001b[43m \u001b[49m\u001b[43m*\u001b[49m\u001b[43m*\u001b[49m\u001b[43mkwargs\u001b[49m\u001b[43m)\u001b[49m\n",
      "\u001b[36mFile \u001b[39m\u001b[32m~/projects/tfm/.venv/lib/python3.13/site-packages/polars/lazyframe/frame.py:2206\u001b[39m, in \u001b[36mLazyFrame.collect\u001b[39m\u001b[34m(self, type_coercion, _type_check, predicate_pushdown, projection_pushdown, simplify_expression, slice_pushdown, comm_subplan_elim, comm_subexpr_elim, cluster_with_columns, collapse_joins, no_optimization, engine, background, _check_order, _eager, **_kwargs)\u001b[39m\n\u001b[32m   2204\u001b[39m \u001b[38;5;66;03m# Only for testing purposes\u001b[39;00m\n\u001b[32m   2205\u001b[39m callback = _kwargs.get(\u001b[33m\"\u001b[39m\u001b[33mpost_opt_callback\u001b[39m\u001b[33m\"\u001b[39m, callback)\n\u001b[32m-> \u001b[39m\u001b[32m2206\u001b[39m \u001b[38;5;28;01mreturn\u001b[39;00m wrap_df(\u001b[43mldf\u001b[49m\u001b[43m.\u001b[49m\u001b[43mcollect\u001b[49m\u001b[43m(\u001b[49m\u001b[43mengine\u001b[49m\u001b[43m,\u001b[49m\u001b[43m \u001b[49m\u001b[43mcallback\u001b[49m\u001b[43m)\u001b[49m)\n",
      "\u001b[31mComputeError\u001b[39m: AttributeError: 'dict' object has no attribute 'struct'"
     ]
    }
   ],
   "source": [
    "query_client.query(query_parameters)"
   ]
  },
  {
   "cell_type": "code",
   "execution_count": null,
   "id": "b2902a01",
   "metadata": {},
   "outputs": [],
   "source": []
  },
  {
   "cell_type": "code",
   "execution_count": null,
   "id": "425e3913",
   "metadata": {},
   "outputs": [],
   "source": []
  }
 ],
 "metadata": {
  "kernelspec": {
   "display_name": ".venv",
   "language": "python",
   "name": "python3"
  },
  "language_info": {
   "codemirror_mode": {
    "name": "ipython",
    "version": 3
   },
   "file_extension": ".py",
   "mimetype": "text/x-python",
   "name": "python",
   "nbconvert_exporter": "python",
   "pygments_lexer": "ipython3",
   "version": "3.13.3"
  }
 },
 "nbformat": 4,
 "nbformat_minor": 5
}
